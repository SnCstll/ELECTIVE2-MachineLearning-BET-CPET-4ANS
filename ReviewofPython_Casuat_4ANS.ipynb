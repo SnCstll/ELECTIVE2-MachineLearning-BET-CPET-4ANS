{
  "nbformat": 4,
  "nbformat_minor": 0,
  "metadata": {
    "colab": {
      "provenance": [],
      "toc_visible": true,
      "include_colab_link": true
    },
    "kernelspec": {
      "name": "python3",
      "display_name": "Python 3"
    },
    "language_info": {
      "name": "python"
    }
  },
  "cells": [
    {
      "cell_type": "markdown",
      "metadata": {
        "id": "view-in-github",
        "colab_type": "text"
      },
      "source": [
        "<a href=\"https://colab.research.google.com/github/SnCstll/ELECTIVE2-BET-CPET4ANS-/blob/main/ReviewofPython_Casuat_4ANS.ipynb\" target=\"_parent\"><img src=\"https://colab.research.google.com/assets/colab-badge.svg\" alt=\"Open In Colab\"/></a>"
      ]
    },
    {
      "cell_type": "markdown",
      "source": [
        "© Cherry Casuat (2022)"
      ],
      "metadata": {
        "id": "WV-tDIDNX90m"
      }
    },
    {
      "cell_type": "markdown",
      "source": [
        "This is the notebook for Introduction to Machine Learning "
      ],
      "metadata": {
        "id": "nuLAY70LYKyo"
      }
    },
    {
      "cell_type": "markdown",
      "source": [
        "#Review of Python Programming"
      ],
      "metadata": {
        "id": "JzwoJaO4YbFa"
      }
    },
    {
      "cell_type": "markdown",
      "source": [
        "## Proper Naming Convention "
      ],
      "metadata": {
        "id": "2OSj5aeRYlqW"
      }
    },
    {
      "cell_type": "markdown",
      "source": [
        "You might think discussing this topic must be pointless or too simplistic but it is actually one of the most frequent mistakes that data scientists, professors, or researchers usually do. Naming variables and functions properly will bring clarity to understanding the code."
      ],
      "metadata": {
        "id": "ROR1QIBoaLlp"
      }
    },
    {
      "cell_type": "code",
      "source": [
        "import pandas as pd"
      ],
      "metadata": {
        "id": "k8FTRF0-aDA3"
      },
      "execution_count": null,
      "outputs": []
    },
    {
      "cell_type": "code",
      "source": [
        "last_names = [\"Rosales\",\"Cruz\", \"Reyes\"]\n",
        "#ln , avoid creating ambiguity"
      ],
      "metadata": {
        "id": "wcpwpXMhaoQ_"
      },
      "execution_count": null,
      "outputs": []
    },
    {
      "cell_type": "code",
      "source": [
        "last_names"
      ],
      "metadata": {
        "colab": {
          "base_uri": "https://localhost:8080/"
        },
        "id": "6ygSIRTIbNta",
        "outputId": "907177c9-734d-452f-88f8-7065c1f12ed3"
      },
      "execution_count": null,
      "outputs": [
        {
          "output_type": "execute_result",
          "data": {
            "text/plain": [
              "['Rosales', 'Cruz', 'Reyes']"
            ]
          },
          "metadata": {},
          "execution_count": 3
        }
      ]
    },
    {
      "cell_type": "markdown",
      "source": [
        "##Practice Activity\n",
        "1. Create variable declarations for \n",
        "   - First Names\n",
        "   -Grades for Prelim\n",
        "   -Grades for Midterm\n",
        "   -Grades for Finals"
      ],
      "metadata": {
        "id": "alN4AtH8bb4b"
      }
    },
    {
      "cell_type": "code",
      "source": [
        "# CODE HERE \n",
        "first_names = [\"Sean Vincent\"]\n"
      ],
      "metadata": {
        "id": "2RCExqHGbUca"
      },
      "execution_count": null,
      "outputs": []
    },
    {
      "cell_type": "markdown",
      "source": [
        "##Code Reusability"
      ],
      "metadata": {
        "id": "AR-JIDeRcKIV"
      }
    },
    {
      "cell_type": "markdown",
      "source": [
        "Just like in any writing we want to reduce redundancies in our content. Just like following the rules of brevity we also consider that in creating cleaner code. One way of applying brevity to code is code reusability wherein you refrain from creating code that you repeat in encoding. This is where the use of functions will be most used. Consider the following code below."
      ],
      "metadata": {
        "id": "bkh-O-xicOgI"
      }
    },
    {
      "cell_type": "code",
      "source": [
        "'''\n",
        "    CASE 2: Computing grades.\n",
        "\n",
        "    For this cell we are going to look into creating functions for the class.\n",
        "    This includes computing for their grades and some classroom management\n",
        "    routines.\n",
        "'''\n",
        "### Consider this procedural programming script\n",
        "gs_1 = [89.4, 78.2, 88.0, 28.5, 67.3]\n",
        "# Get average grades of the class\n",
        "class_g = 0\n",
        "for g in gs_1:\n",
        "  class_g += g\n",
        "cmean = class_g/len(gs_1)\n",
        "print (cmean)"
      ],
      "metadata": {
        "colab": {
          "base_uri": "https://localhost:8080/"
        },
        "id": "NLnOlMKlb2b1",
        "outputId": "92969a8c-8329-44eb-825c-e64f49c13d74"
      },
      "execution_count": null,
      "outputs": [
        {
          "output_type": "stream",
          "name": "stdout",
          "text": [
            "70.28\n"
          ]
        }
      ]
    },
    {
      "cell_type": "code",
      "source": [
        "# Code here for grades  (89,90,73,45)\n",
        "gs_1 = [89, 90, 73, 45]\n",
        "class_g = 0\n",
        "for g in gs_1:\n",
        "  class_g += g\n",
        "  cmean = class_g/len(gs_1)\n",
        "  print (cmean)"
      ],
      "metadata": {
        "id": "xIfmg6nGc-4a",
        "colab": {
          "base_uri": "https://localhost:8080/"
        },
        "outputId": "5dd2bc4d-70a3-46d3-83f2-0c3fb4307fc4"
      },
      "execution_count": null,
      "outputs": [
        {
          "output_type": "stream",
          "name": "stdout",
          "text": [
            "22.25\n",
            "44.75\n",
            "63.0\n",
            "74.25\n"
          ]
        }
      ]
    },
    {
      "cell_type": "code",
      "source": [
        "### That works but if you keep doing that for production, it would just look\n",
        "### like spaghetti code. Instead, if you are repeating code, consider creating\n",
        "### a function.\n",
        "\n",
        "def average(grades):\n",
        "  grades_class = 0\n",
        "  for g in grades:\n",
        "    grades_class += g\n",
        "  avg = grades_class/len(grades)\n",
        "  return avg"
      ],
      "metadata": {
        "id": "I8enZymbdNGf"
      },
      "execution_count": null,
      "outputs": []
    },
    {
      "cell_type": "code",
      "source": [
        "## The code above would be reusable but it is not easy to read. We need to \n",
        "### enforce the code refactoring for renaming not just the variables but also\n",
        "### the functions we are creating. So if we would refactor the 'average' \n",
        "### Function earlier it could be:\n",
        "\n",
        "def get_class_ave(arr):\n",
        "  class_grades = 0\n",
        "  for grade in arr:\n",
        "    class_grades += grade\n",
        "  class_avg = class_grades/len(arr)\n",
        "  return class_avg"
      ],
      "metadata": {
        "id": "NHEnXwXBdkt-"
      },
      "execution_count": null,
      "outputs": []
    },
    {
      "cell_type": "markdown",
      "source": [
        "##Getting Class Statistics"
      ],
      "metadata": {
        "id": "BEwCQHwCdqkZ"
      }
    },
    {
      "cell_type": "markdown",
      "source": [
        "Create a function named get_grades() for computing the semestral grade of each student:\n",
        "\n",
        "inputs: DataFrame of a class grade sheet.\n",
        "\n",
        "outpus: DataFrame showing:\n",
        "    The prelim, midterms, and finals grades of each student\n",
        "    The semestral grade of each student\n",
        "\n",
        "Create a function named get_class_stats().\n",
        "\n",
        "inputs: DataFrame from get_grades().\n",
        "\n",
        "outpus: DataFrame showing:\n",
        "    The lowest and highest prelim, midterm, finals, and semestral grades\n",
        "    the mean, median, mode, and standard deviation of the grades"
      ],
      "metadata": {
        "id": "LJ1UECSWd43_"
      }
    },
    {
      "cell_type": "code",
      "source": [
        "## Code here##\n",
        "def get_grades(grades):\n",
        "  semester = 0\n",
        "  for g in grades:\n",
        "    get_grades += g\n",
        "    sem = semester/len(grades)\n",
        "    return sem\n",
        "\n"
      ],
      "metadata": {
        "id": "DIfZj6DEd2k4"
      },
      "execution_count": null,
      "outputs": []
    },
    {
      "cell_type": "code",
      "source": [
        "## Code here##\n",
        "def get_class_stats(room):\n",
        "  class_stats = 0\n",
        "  for c in room:\n",
        "    get_class_stats += c\n",
        "    section = semester/len(room)\n",
        "    return section"
      ],
      "metadata": {
        "id": "PneWzwZN5A0U"
      },
      "execution_count": null,
      "outputs": []
    },
    {
      "cell_type": "markdown",
      "source": [
        "##Code Optimization\n",
        "When we consider your code to be part of production or for customer delivery we must consider that they are not laggy nor too space-consuming for devices. This is a common practice in data science and machine learning wherein training algorithms take up resources from computers or considering the space a model consumes at your workspace or your customer’s device."
      ],
      "metadata": {
        "id": "yPp4xl-beMIB"
      }
    },
    {
      "cell_type": "markdown",
      "source": [
        "Space Complexity\n",
        "\n",
        "This would specifically refer to your choice of data structures. This is a job for reviewing data structures and algorithms for space complexity. Although in Python for AI we are looking into more data structures like matrices and data frames."
      ],
      "metadata": {
        "id": "CctsMtzIeax_"
      }
    },
    {
      "cell_type": "code",
      "source": [
        "## The following code will optimize how to efficiently store data into memory\n",
        "enrollees_2016_2020 = ['15022', '18302', '8845', '9203', '10035']\n",
        "enrollees_2016_2020 = [15022, 18302, 8845, 9203, 10035]"
      ],
      "metadata": {
        "id": "44ygYd6UeFOK"
      },
      "execution_count": null,
      "outputs": []
    },
    {
      "cell_type": "code",
      "source": [
        "img1 =[[125.453, 254],[64.21,84.53]]\n",
        "img1\n"
      ],
      "metadata": {
        "colab": {
          "base_uri": "https://localhost:8080/"
        },
        "id": "B9I_1oWCewpr",
        "outputId": "a752ef93-b920-481a-b89d-ead3a05cf3fd"
      },
      "execution_count": null,
      "outputs": [
        {
          "output_type": "execute_result",
          "data": {
            "text/plain": [
              "[[125.453, 254], [64.21, 84.53]]"
            ]
          },
          "metadata": {},
          "execution_count": 17
        }
      ]
    },
    {
      "cell_type": "code",
      "source": [
        "import numpy as np\n",
        "img1_vector= np.array(img1)\n",
        "img1_vector"
      ],
      "metadata": {
        "colab": {
          "base_uri": "https://localhost:8080/"
        },
        "id": "BZLeQRJ8e8ow",
        "outputId": "bfd1d185-0ec4-47db-a3e2-992f90dfac3f"
      },
      "execution_count": null,
      "outputs": [
        {
          "output_type": "execute_result",
          "data": {
            "text/plain": [
              "array([[125.453, 254.   ],\n",
              "       [ 64.21 ,  84.53 ]])"
            ]
          },
          "metadata": {},
          "execution_count": 18
        }
      ]
    },
    {
      "cell_type": "markdown",
      "source": [
        "##Practice Activity\n",
        "code wil try to optimize getting unique elements from the given\n",
        "list of class codes\n",
        "\n",
        "curr_2018_courses = ['220', '270', '318', '450', '101', '768', '223L', '223',\n",
        "                     '727', '418', '673', '672', '450', '124', '771', '654',\n",
        "                     '231', '768', '768', '224', '654', '673']\n",
        "\n",
        "### print an array that shows only the unique elements\n",
        "\n"
      ],
      "metadata": {
        "id": "BsPgIjVvfuAM"
      }
    },
    {
      "cell_type": "code",
      "source": [
        "## CODE HERE ##\n",
        "def get_unique_numbers(curr_2018_courses):\n",
        "\n",
        "    list_of_unique_numbers = []\n",
        "\n",
        "    unique_numbers = set(curr_2018_courses)\n",
        "\n",
        "    for number in unique_numbers:\n",
        "        list_of_unique_numbers.append(number)\n",
        "\n",
        "    return list_of_unique_numbers\n",
        "\n",
        "\n"
      ],
      "metadata": {
        "id": "RdpdlgzzfRbX"
      },
      "execution_count": null,
      "outputs": []
    },
    {
      "cell_type": "code",
      "source": [],
      "metadata": {
        "id": "Rg8Vyyg21Af5"
      },
      "execution_count": null,
      "outputs": []
    }
  ]
}